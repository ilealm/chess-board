{
 "cells": [
  {
   "cell_type": "markdown",
   "metadata": {},
   "source": [
    "# Chessboard Game"
   ]
  },
  {
   "cell_type": "code",
   "execution_count": 17,
   "metadata": {},
   "outputs": [],
   "source": [
    "import numpy as np\n",
    "import matplotlib.pyplot as plt"
   ]
  },
  {
   "cell_type": "code",
   "execution_count": 18,
   "metadata": {},
   "outputs": [],
   "source": [
    "class ChessBoard:\n",
    "    def __init__(self):\n",
    "        #inicialize the board 8x8, with 3 channels in each cell\n",
    "        self.grid = np.zeros((8,8,3))\n",
    "        self._write = (1,1,1)\n",
    "        self._red = (1,.2,0)\n",
    "        self._blue = (.1,.1,1)\n",
    "        self._queen_blue_posittion = []\n",
    "        self._queen_red_posittion = []\n",
    "        white = (1,1,1)\n",
    "        for i in range(0,8,2):\n",
    "            self.grid[i + 0][::2] = self._write\n",
    "            self.grid[i + 1][1::2] = self._write\n",
    "         \n",
    "    \n",
    "    def add_red(self, row, col):\n",
    "        self.grid[row,col] = self._red\n",
    "        self._queen_red_posittion = [row,col]\n",
    "    \n",
    "    def add_blue(self, row, col):\n",
    "        self.grid[row,col] = self._blue\n",
    "        self._queen_blue_posittion = [row,col]\n",
    "    \n",
    "    def is_under_attack(self):\n",
    "        under_attack = False\n",
    "        # analize rows\n",
    "        if self._queen_red_posittion[0] == self._queen_blue_posittion[0] : return True\n",
    "        if self._queen_red_posittion[1] == self._queen_blue_posittion[1] : return True\n",
    "        if self.is_diagonal(self._queen_red_posittion[0],self._queen_red_posittion[1], self._queen_blue_posittion[0],self._queen_blue_posittion[1]) : return True\n",
    "        \n",
    "        return under_attack\n",
    "\n",
    "    \n",
    "    def is_diagonal(self, ax,ay,bx,by):\n",
    "        \"\"\"\n",
    "        given coordinates for 2 points a and b\n",
    "        determine if they are diagonals\n",
    "        This method is not my creation, JB said we would use it from the class repo.\n",
    "        \"\"\"\n",
    "        dx = abs(ax - bx)\n",
    "        dy = abs(ay - by)\n",
    "        return dx == dy\n",
    "    \n",
    "\n",
    "        \n",
    "    def render(self):\n",
    "        # render whatever the grid is\n",
    "        plt.imshow(self.grid)\n",
    "        \n",
    " "
   ]
  },
  {
   "cell_type": "markdown",
   "metadata": {},
   "source": [
    "### Displaying initial chessboard"
   ]
  },
  {
   "cell_type": "code",
   "execution_count": 19,
   "metadata": {},
   "outputs": [
    {
     "data": {
      "image/png": "[encoded data removed]",
      "text/plain": [
       "<Figure size 432x288 with 1 Axes>"
      ]
     },
     "metadata": {
      "needs_background": "light"
     },
     "output_type": "display_data"
    }
   ],
   "source": [
    "board = ChessBoard()    \n",
    "board.render()"
   ]
  },
  {
   "cell_type": "markdown",
   "metadata": {},
   "source": [
    "### Displaying queens red and blue"
   ]
  },
  {
   "cell_type": "code",
   "execution_count": 20,
   "metadata": {},
   "outputs": [
    {
     "data": {
      "image/png": "[encoded data removed]",
      "text/plain": [
       "<Figure size 432x288 with 1 Axes>"
      ]
     },
     "metadata": {
      "needs_background": "light"
     },
     "output_type": "display_data"
    }
   ],
   "source": [
    "board.add_red(5,6)\n",
    "board.add_blue(3,5)\n",
    "board.render()"
   ]
  },
  {
   "cell_type": "markdown",
   "metadata": {},
   "source": [
    "## Tests"
   ]
  },
  {
   "cell_type": "markdown",
   "metadata": {},
   "source": [
    "### Test no attack"
   ]
  },
  {
   "cell_type": "code",
   "execution_count": 21,
   "metadata": {},
   "outputs": [
    {
     "data": {
      "image/png": "[encoded data removed]",
      "text/plain": [
       "<Figure size 432x288 with 1 Axes>"
      ]
     },
     "metadata": {
      "needs_background": "light"
     },
     "output_type": "display_data"
    }
   ],
   "source": [
    "# Test no attack\n",
    "# given\n",
    "board = ChessBoard()\n",
    "expected = False\n",
    "# when\n",
    "board.add_red(5,6)\n",
    "board.add_blue(3,5)\n",
    "actual = board.is_under_attack()\n",
    "#then\n",
    "assert actual == expected, \"Error, there is not attack from the queens.\"\n",
    "\n",
    "board.render()"
   ]
  },
  {
   "cell_type": "markdown",
   "metadata": {},
   "source": [
    "### Test 2 no attack"
   ]
  },
  {
   "cell_type": "code",
   "execution_count": 22,
   "metadata": {},
   "outputs": [
    {
     "data": {
      "image/png": "[encoded data removed]",
      "text/plain": [
       "<Figure size 432x288 with 1 Axes>"
      ]
     },
     "metadata": {
      "needs_background": "light"
     },
     "output_type": "display_data"
    }
   ],
   "source": [
    "# Test no attack 2\n",
    "# given\n",
    "board = ChessBoard()\n",
    "expected = False\n",
    "# when\n",
    "board.add_red(1,1)\n",
    "board.add_blue(6,4)\n",
    "actual = board.is_under_attack()\n",
    "#then\n",
    "assert actual == expected, \"Error, there is not attack from the queens.\"\n",
    "\n",
    "board.render()"
   ]
  },
  {
   "cell_type": "markdown",
   "metadata": {},
   "source": [
    "### Test attack on columns"
   ]
  },
  {
   "cell_type": "code",
   "execution_count": 23,
   "metadata": {},
   "outputs": [
    {
     "data": {
      "image/png": "[encoded data removed]",
      "text/plain": [
       "<Figure size 432x288 with 1 Axes>"
      ]
     },
     "metadata": {
      "needs_background": "light"
     },
     "output_type": "display_data"
    }
   ],
   "source": [
    "# given\n",
    "board = ChessBoard()\n",
    "expected = True\n",
    "# when\n",
    "board.add_red(5,6)\n",
    "board.add_blue(3,6)\n",
    "actual = board.is_under_attack()\n",
    "#then\n",
    "assert actual == expected, \"Error, there is an attack from the queens on the same column.\"\n",
    "\n",
    "board.render()"
   ]
  },
  {
   "cell_type": "markdown",
   "metadata": {},
   "source": [
    "### Test attack on rows"
   ]
  },
  {
   "cell_type": "code",
   "execution_count": 24,
   "metadata": {},
   "outputs": [
    {
     "data": {
      "image/png": "[encoded data removed]",
      "text/plain": [
       "<Figure size 432x288 with 1 Axes>"
      ]
     },
     "metadata": {
      "needs_background": "light"
     },
     "output_type": "display_data"
    }
   ],
   "source": [
    "board = ChessBoard()\n",
    "# Test attack on rows\n",
    "# given\n",
    "expected = True\n",
    "# when\n",
    "board.add_red(3,1)\n",
    "board.add_blue(3,6)\n",
    "actual = board.is_under_attack()\n",
    "#then\n",
    "assert actual == expected, \"Error, there is an attack from the queens on the same row.\"\n",
    "\n",
    "board.render()"
   ]
  },
  {
   "cell_type": "markdown",
   "metadata": {},
   "source": [
    "### Test on diagonal"
   ]
  },
  {
   "cell_type": "code",
   "execution_count": 25,
   "metadata": {},
   "outputs": [
    {
     "data": {
      "image/png": "[encoded data removed]",
      "text/plain": [
       "<Figure size 432x288 with 1 Axes>"
      ]
     },
     "metadata": {
      "needs_background": "light"
     },
     "output_type": "display_data"
    }
   ],
   "source": [
    "board = ChessBoard()\n",
    "\n",
    "# Test attack on diagonal\n",
    "# given\n",
    "expected = True\n",
    "# when\n",
    "board.add_red(2,2)\n",
    "board.add_blue(6,6)\n",
    "actual = board.is_under_attack()\n",
    "#then\n",
    "assert actual == expected, \"Error, there is an attack from the queens on diagonal.\"\n",
    "\n",
    "board.render()"
   ]
  },
  {
   "cell_type": "code",
   "execution_count": 26,
   "metadata": {},
   "outputs": [
    {
     "name": "stdout",
     "output_type": "stream",
     "text": [
      "*** ALL TESTS PASSED ***\n"
     ]
    }
   ],
   "source": [
    "# Test no attack\n",
    "# given\n",
    "board = ChessBoard()\n",
    "expected = False\n",
    "# when\n",
    "board.add_red(5,6)\n",
    "board.add_blue(3,5)\n",
    "actual = board.is_under_attack()\n",
    "#then\n",
    "assert actual == expected, \"Error, there is not attack from the queens.\"\n",
    "\n",
    "# Test no attack 2\n",
    "# given\n",
    "board = ChessBoard()\n",
    "expected = False\n",
    "# when\n",
    "board.add_red(1,1)\n",
    "board.add_blue(6,4)\n",
    "actual = board.is_under_attack()\n",
    "#then\n",
    "assert actual == expected, \"Error, there is not attack from the queens.\"\n",
    "\n",
    "\n",
    "# Test attack on columns\n",
    "# given\n",
    "expected = True\n",
    "# when\n",
    "board.add_red(5,6)\n",
    "board.add_blue(3,6)\n",
    "actual = board.is_under_attack()\n",
    "#then\n",
    "assert actual == expected, \"Error, there is an attack from the queens on the same column.\"\n",
    "\n",
    "\n",
    "# Test attack on rows\n",
    "# given\n",
    "expected = True\n",
    "# when\n",
    "board.add_red(3,1)\n",
    "board.add_blue(3,6)\n",
    "actual = board.is_under_attack()\n",
    "#then\n",
    "assert actual == expected, \"Error, there is an attack from the queens on the same row.\"\n",
    "\n",
    "# Test attack on diagonal\n",
    "# given\n",
    "expected = True\n",
    "# when\n",
    "board.add_red(2,2)\n",
    "board.add_blue(6,6)\n",
    "actual = board.is_under_attack()\n",
    "#then\n",
    "assert actual == expected, \"Error, there is an attack from the queens on diagonal.\"\n",
    "\n",
    "\n",
    "\n",
    "print(\"*** ALL TESTS PASSED ***\")\n"
   ]
  }
 ],
 "metadata": {
  "kernelspec": {
   "display_name": "Python 3",
   "language": "python",
   "name": "python3"
  },
  "language_info": {
   "codemirror_mode": {
    "name": "ipython",
    "version": 3
   },
   "file_extension": ".py",
   "mimetype": "text/x-python",
   "name": "python",
   "nbconvert_exporter": "python",
   "pygments_lexer": "ipython3",
   "version": "3.8.2"
  }
 },
 "nbformat": 4,
 "nbformat_minor": 4
}
